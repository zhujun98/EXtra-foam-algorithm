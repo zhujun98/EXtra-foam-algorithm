{
 "cells": [
  {
   "cell_type": "markdown",
   "metadata": {},
   "source": [
    "# Benchmark pyfoamalgo - Statistics\n",
    "\n",
    "Author: Jun Zhu"
   ]
  },
  {
   "cell_type": "code",
   "execution_count": null,
   "metadata": {},
   "outputs": [],
   "source": [
    "import random\n",
    "import numpy as np\n",
    "\n",
    "import pyfoamalgo\n",
    "print(\"pyfoamalgo version: \", pyfoamalgo.__version__)\n",
    "\n",
    "import multiprocessing as mp\n",
    "print(\"Number of cores: \", mp.cpu_count())\n",
    "\n",
    "from pyfoamalgo import nansum, nanmean, nanmin, nanmax, nanstd, nanvar, nanmean_image_data\n",
    "from pyfoamalgo import histogram1d"
   ]
  },
  {
   "cell_type": "markdown",
   "metadata": {},
   "source": [
    "---\n",
    "## Initialize image data"
   ]
  },
  {
   "cell_type": "code",
   "execution_count": null,
   "metadata": {},
   "outputs": [],
   "source": [
    "NUM_IMAGES = 128\n",
    "IMAGE_SHAPE = (1200, 1124)\n",
    "DTYPE = np.float32"
   ]
  },
  {
   "cell_type": "code",
   "execution_count": null,
   "metadata": {},
   "outputs": [],
   "source": [
    "def generate_image_array(n, with_nan=True):\n",
    "    data = np.random.randn(n, *IMAGE_SHAPE).astype(DTYPE)\n",
    "    if with_nan:\n",
    "        data[:, ::2, ::2] = np.nan\n",
    "    return data\n",
    "\n",
    "\n",
    "def generate_image(with_nan=True):\n",
    "    data = np.random.randn(*IMAGE_SHAPE).astype(DTYPE)\n",
    "    if with_nan:\n",
    "        data[::2, ::2] = np.nan\n",
    "    return data"
   ]
  },
  {
   "cell_type": "markdown",
   "metadata": {},
   "source": [
    "---\n",
    "## Statistics with nan"
   ]
  },
  {
   "cell_type": "markdown",
   "metadata": {},
   "source": [
    "### nanmean / nanmean_image_data (image array)"
   ]
  },
  {
   "cell_type": "code",
   "execution_count": null,
   "metadata": {},
   "outputs": [],
   "source": [
    "imgs = generate_image_array(NUM_IMAGES)\n",
    "%timeit np.nanmean(imgs, axis=0)"
   ]
  },
  {
   "cell_type": "code",
   "execution_count": null,
   "metadata": {},
   "outputs": [],
   "source": [
    "imgs = generate_image_array(NUM_IMAGES)\n",
    "%timeit nanmean(imgs, axis=0)"
   ]
  },
  {
   "cell_type": "code",
   "execution_count": null,
   "metadata": {},
   "outputs": [],
   "source": [
    "imgs = generate_image_array(NUM_IMAGES)\n",
    "%timeit nanmean_image_data(imgs)"
   ]
  },
  {
   "cell_type": "markdown",
   "metadata": {},
   "source": [
    "A common use case is to apply `nanmean` to a list of selected images."
   ]
  },
  {
   "cell_type": "code",
   "execution_count": null,
   "metadata": {},
   "outputs": [],
   "source": [
    "# select 120 images out of 128 ones\n",
    "selected = random.sample(range(NUM_IMAGES), 120)"
   ]
  },
  {
   "cell_type": "code",
   "execution_count": null,
   "metadata": {},
   "outputs": [],
   "source": [
    "# numpy is slower than operating on all the images since it copies the data when 'selected' is a list.\n",
    "imgs = generate_image_array(NUM_IMAGES)\n",
    "%timeit np.nanmean(imgs[selected], axis=0)"
   ]
  },
  {
   "cell_type": "code",
   "execution_count": null,
   "metadata": {},
   "outputs": [],
   "source": [
    "imgs = generate_image_array(NUM_IMAGES)\n",
    "%timeit nanmean_image_data(imgs, kept=selected)"
   ]
  },
  {
   "cell_type": "markdown",
   "metadata": {},
   "source": [
    "### nanmean (single image)"
   ]
  },
  {
   "cell_type": "code",
   "execution_count": null,
   "metadata": {},
   "outputs": [],
   "source": [
    "img = generate_image()\n",
    "%timeit np.nanmean(img)"
   ]
  },
  {
   "cell_type": "code",
   "execution_count": null,
   "metadata": {},
   "outputs": [],
   "source": [
    "img = generate_image()\n",
    "%timeit nanmean(img)"
   ]
  },
  {
   "cell_type": "markdown",
   "metadata": {},
   "source": [
    "### nansum (image array) - without parallelization"
   ]
  },
  {
   "cell_type": "code",
   "execution_count": null,
   "metadata": {},
   "outputs": [],
   "source": [
    "imgs = generate_image_array(NUM_IMAGES)\n",
    "%timeit np.nansum(imgs, axis=0)"
   ]
  },
  {
   "cell_type": "code",
   "execution_count": null,
   "metadata": {},
   "outputs": [],
   "source": [
    "imgs = generate_image_array(NUM_IMAGES)\n",
    "%timeit nansum(imgs, axis=0)"
   ]
  },
  {
   "cell_type": "markdown",
   "metadata": {},
   "source": [
    "### nansum (single image)"
   ]
  },
  {
   "cell_type": "code",
   "execution_count": null,
   "metadata": {},
   "outputs": [],
   "source": [
    "img = generate_image()\n",
    "%timeit np.nansum(img)"
   ]
  },
  {
   "cell_type": "code",
   "execution_count": null,
   "metadata": {},
   "outputs": [],
   "source": [
    "img = generate_image()\n",
    "%timeit nansum(img)"
   ]
  },
  {
   "cell_type": "markdown",
   "metadata": {},
   "source": [
    "### nanmin (image array) - without parallelization [FIXME]"
   ]
  },
  {
   "cell_type": "code",
   "execution_count": null,
   "metadata": {},
   "outputs": [],
   "source": [
    "imgs = generate_image_array(NUM_IMAGES)\n",
    "%timeit np.nanmin(imgs, axis=0)"
   ]
  },
  {
   "cell_type": "code",
   "execution_count": null,
   "metadata": {},
   "outputs": [],
   "source": [
    "imgs = generate_image_array(NUM_IMAGES)\n",
    "%timeit nanmin(imgs, axis=0)"
   ]
  },
  {
   "cell_type": "markdown",
   "metadata": {},
   "source": [
    "### nanmin (single image) [FIXME]"
   ]
  },
  {
   "cell_type": "code",
   "execution_count": null,
   "metadata": {},
   "outputs": [],
   "source": [
    "img = generate_image()\n",
    "%timeit np.nanmin(img)"
   ]
  },
  {
   "cell_type": "code",
   "execution_count": null,
   "metadata": {},
   "outputs": [],
   "source": [
    "img = generate_image()\n",
    "%timeit nanmin(img)"
   ]
  },
  {
   "cell_type": "markdown",
   "metadata": {},
   "source": [
    "### nanmax (image array) - without parallelization [FIXME]"
   ]
  },
  {
   "cell_type": "code",
   "execution_count": null,
   "metadata": {},
   "outputs": [],
   "source": [
    "imgs = generate_image_array(NUM_IMAGES)\n",
    "%timeit np.nanmax(imgs, axis=0)"
   ]
  },
  {
   "cell_type": "code",
   "execution_count": null,
   "metadata": {},
   "outputs": [],
   "source": [
    "imgs = generate_image_array(NUM_IMAGES)\n",
    "%timeit nanmax(imgs, axis=0)"
   ]
  },
  {
   "cell_type": "markdown",
   "metadata": {},
   "source": [
    "### nanmax (single image) [FIXME]"
   ]
  },
  {
   "cell_type": "code",
   "execution_count": null,
   "metadata": {},
   "outputs": [],
   "source": [
    "img = generate_image()\n",
    "%timeit np.nanmax(img)"
   ]
  },
  {
   "cell_type": "code",
   "execution_count": null,
   "metadata": {},
   "outputs": [],
   "source": [
    "img = generate_image()\n",
    "%timeit nanmax(img)"
   ]
  },
  {
   "cell_type": "markdown",
   "metadata": {},
   "source": [
    "### nanstd  (single image) [FIXME]"
   ]
  },
  {
   "cell_type": "code",
   "execution_count": null,
   "metadata": {},
   "outputs": [],
   "source": [
    "# img = generate_image()\n",
    "# %timeit np.nanstd(single_image)"
   ]
  },
  {
   "cell_type": "code",
   "execution_count": null,
   "metadata": {},
   "outputs": [],
   "source": [
    "# img = generate_image()\n",
    "# %timeit nanstd(single_image)"
   ]
  },
  {
   "cell_type": "markdown",
   "metadata": {},
   "source": [
    "### nanvar  (single image) [FIXME]"
   ]
  },
  {
   "cell_type": "code",
   "execution_count": null,
   "metadata": {},
   "outputs": [],
   "source": [
    "# img = generate_image()\n",
    "# %timeit np.nanvar(img)"
   ]
  },
  {
   "cell_type": "code",
   "execution_count": null,
   "metadata": {},
   "outputs": [],
   "source": [
    "# img = generate_image()\n",
    "# %timeit nanvar(single_image)"
   ]
  },
  {
   "cell_type": "markdown",
   "metadata": {},
   "source": [
    "---\n",
    "## Statistics without nan"
   ]
  },
  {
   "cell_type": "markdown",
   "metadata": {},
   "source": [
    "### histogram1d (single image)"
   ]
  },
  {
   "cell_type": "code",
   "execution_count": null,
   "metadata": {},
   "outputs": [],
   "source": [
    "img = generate_image(with_nan=False)\n",
    "%timeit np.histogram(img, bins=120)"
   ]
  },
  {
   "cell_type": "code",
   "execution_count": null,
   "metadata": {},
   "outputs": [],
   "source": [
    "img = generate_image(with_nan=False)\n",
    "%timeit histogram1d(img, bins=120)"
   ]
  }
 ],
 "metadata": {
  "kernelspec": {
   "display_name": "foamalgo",
   "language": "python",
   "name": "foamalgo"
  },
  "language_info": {
   "codemirror_mode": {
    "name": "ipython",
    "version": 3
   },
   "file_extension": ".py",
   "mimetype": "text/x-python",
   "name": "python",
   "nbconvert_exporter": "python",
   "pygments_lexer": "ipython3",
   "version": "3.7.8"
  }
 },
 "nbformat": 4,
 "nbformat_minor": 2
}
