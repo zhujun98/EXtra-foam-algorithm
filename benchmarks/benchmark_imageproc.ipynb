{
 "cells": [
  {
   "cell_type": "markdown",
   "metadata": {},
   "source": [
    "# Benchmark pyfoamalgo - Image Processing\n",
    "\n",
    "Author: Jun Zhu"
   ]
  },
  {
   "cell_type": "code",
   "execution_count": null,
   "metadata": {},
   "outputs": [],
   "source": [
    "import random\n",
    "import numpy as np\n",
    "\n",
    "import pyfoamalgo\n",
    "print(\"pyfoamalgo version: \", pyfoamalgo.__version__)\n",
    "\n",
    "import multiprocessing as mp\n",
    "print(\"Number of cores: \", mp.cpu_count())\n",
    "\n",
    "from pyfoamalgo import mask_image_data"
   ]
  },
  {
   "cell_type": "markdown",
   "metadata": {},
   "source": [
    "---\n",
    "## Initialize image data"
   ]
  },
  {
   "cell_type": "code",
   "execution_count": null,
   "metadata": {},
   "outputs": [],
   "source": [
    "NUM_IMAGES = 128\n",
    "IMAGE_SHAPE = (1200, 1124)\n",
    "DTYPE = np.float32"
   ]
  },
  {
   "cell_type": "code",
   "execution_count": null,
   "metadata": {},
   "outputs": [],
   "source": [
    "def generate_image_array(n, with_nan=True):\n",
    "    data = np.random.randn(n, *IMAGE_SHAPE).astype(DTYPE)\n",
    "    if with_nan:\n",
    "        data[:, ::2, ::2] = np.nan\n",
    "    return data\n",
    "\n",
    "\n",
    "def generate_image(with_nan=True):\n",
    "    data = np.random.randn(*IMAGE_SHAPE).astype(DTYPE)\n",
    "    if with_nan:\n",
    "        data[::2, ::2] = np.nan\n",
    "    return data\n",
    "\n",
    "\n",
    "image_mask = np.ones(IMAGE_SHAPE, dtype=bool)\n",
    "image_mask[::3, ::3] = np.nan"
   ]
  },
  {
   "cell_type": "markdown",
   "metadata": {},
   "source": [
    "---\n",
    "## Masking image(s)"
   ]
  },
  {
   "cell_type": "markdown",
   "metadata": {},
   "source": [
    "### Threshold mask (image array)"
   ]
  },
  {
   "cell_type": "code",
   "execution_count": null,
   "metadata": {},
   "outputs": [],
   "source": [
    "imgs = generate_image_array(NUM_IMAGES)\n",
    "%timeit imgs[(imgs > 1) | (imgs < -1)] = np.nan"
   ]
  },
  {
   "cell_type": "code",
   "execution_count": null,
   "metadata": {},
   "outputs": [],
   "source": [
    "imgs = generate_image_array(NUM_IMAGES)\n",
    "%timeit mask_image_data(imgs, threshold_mask=(-1, 1))"
   ]
  },
  {
   "cell_type": "markdown",
   "metadata": {},
   "source": [
    "### Threshold mask (single image)"
   ]
  },
  {
   "cell_type": "code",
   "execution_count": null,
   "metadata": {},
   "outputs": [],
   "source": [
    "img = generate_image()\n",
    "%timeit img[(img > 1) | (img < -1)] = np.nan"
   ]
  },
  {
   "cell_type": "code",
   "execution_count": null,
   "metadata": {},
   "outputs": [],
   "source": [
    "img = generate_image()\n",
    "%timeit mask_image_data(img, threshold_mask=(-1, 1))"
   ]
  },
  {
   "cell_type": "markdown",
   "metadata": {},
   "source": [
    "### Image mask (image array)"
   ]
  },
  {
   "cell_type": "code",
   "execution_count": null,
   "metadata": {},
   "outputs": [],
   "source": [
    "imgs = generate_image_array(NUM_IMAGES)\n",
    "%timeit imgs[:, image_mask] = np.nan"
   ]
  },
  {
   "cell_type": "code",
   "execution_count": null,
   "metadata": {},
   "outputs": [],
   "source": [
    "imgs = generate_image_array(NUM_IMAGES)\n",
    "%timeit mask_image_data(imgs, image_mask=image_mask)"
   ]
  },
  {
   "cell_type": "markdown",
   "metadata": {},
   "source": [
    "### Image mask (single image)"
   ]
  },
  {
   "cell_type": "code",
   "execution_count": null,
   "metadata": {},
   "outputs": [],
   "source": [
    "img = generate_image()\n",
    "%timeit img[image_mask] = np.nan"
   ]
  },
  {
   "cell_type": "code",
   "execution_count": null,
   "metadata": {},
   "outputs": [],
   "source": [
    "img = generate_image()\n",
    "%timeit mask_image_data(img, image_mask=image_mask)"
   ]
  },
  {
   "cell_type": "markdown",
   "metadata": {},
   "source": [
    "### Threshold mask + Image mask (image array)"
   ]
  },
  {
   "cell_type": "code",
   "execution_count": null,
   "metadata": {},
   "outputs": [],
   "source": [
    "imgs = generate_image_array(NUM_IMAGES)\n",
    "%timeit imgs[(image_mask) | (imgs > 1) | (imgs < -1)] = np.nan"
   ]
  },
  {
   "cell_type": "code",
   "execution_count": null,
   "metadata": {},
   "outputs": [],
   "source": [
    "imgs = generate_image_array(NUM_IMAGES)\n",
    "%timeit mask_image_data(imgs, image_mask=image_mask, threshold_mask=(-1, 1))"
   ]
  },
  {
   "cell_type": "markdown",
   "metadata": {},
   "source": [
    "### Threshold mask + Image mask (single image)"
   ]
  },
  {
   "cell_type": "code",
   "execution_count": null,
   "metadata": {},
   "outputs": [],
   "source": [
    "img = generate_image()\n",
    "%timeit img[(image_mask) | (img > 1) | (img < -1)] = np.nan"
   ]
  },
  {
   "cell_type": "code",
   "execution_count": null,
   "metadata": {},
   "outputs": [],
   "source": [
    "img = generate_image()\n",
    "%timeit mask_image_data(img, image_mask=image_mask, threshold_mask=(-1, 1))"
   ]
  }
 ],
 "metadata": {
  "kernelspec": {
   "display_name": "foamalgo",
   "language": "python",
   "name": "foamalgo"
  },
  "language_info": {
   "codemirror_mode": {
    "name": "ipython",
    "version": 3
   },
   "file_extension": ".py",
   "mimetype": "text/x-python",
   "name": "python",
   "nbconvert_exporter": "python",
   "pygments_lexer": "ipython3",
   "version": "3.7.8"
  }
 },
 "nbformat": 4,
 "nbformat_minor": 2
}
